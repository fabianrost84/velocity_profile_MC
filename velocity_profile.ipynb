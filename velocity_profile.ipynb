{
 "cells": [
  {
   "cell_type": "code",
   "execution_count": 1,
   "metadata": {
    "ExecuteTime": {
     "end_time": "2017-08-09T09:49:35.294462Z",
     "start_time": "2017-08-09T09:49:34.702027Z"
    },
    "collapsed": true
   },
   "outputs": [],
   "source": [
    "import matplotlib.pyplot as plt\n",
    "%matplotlib inline\n",
    "import numpy as np\n",
    "import pandas as pd\n",
    "import seaborn as sns"
   ]
  },
  {
   "cell_type": "markdown",
   "metadata": {
    "run_control": {
     "frozen": false,
     "read_only": false
    }
   },
   "source": [
    "# Velocity Profile distribution"
   ]
  },
  {
   "cell_type": "markdown",
   "metadata": {},
   "source": [
    "## Input parameters"
   ]
  },
  {
   "cell_type": "markdown",
   "metadata": {},
   "source": [
    "Means:"
   ]
  },
  {
   "cell_type": "code",
   "execution_count": 2,
   "metadata": {
    "ExecuteTime": {
     "end_time": "2017-08-09T09:49:35.303794Z",
     "start_time": "2017-08-09T09:49:35.295974Z"
    }
   },
   "outputs": [],
   "source": [
    "logmean = pd.Series()\n",
    "logmean['a'] = np.log10(10.0)\n",
    "logmean['r'] = np.log10(10.0)\n",
    "logmean['mu'] = np.log10(10.0)\n",
    "logmean['kappa'] = np.log10(10.0)"
   ]
  },
  {
   "cell_type": "markdown",
   "metadata": {},
   "source": [
    "Log std:"
   ]
  },
  {
   "cell_type": "code",
   "execution_count": 3,
   "metadata": {
    "ExecuteTime": {
     "end_time": "2017-08-09T09:49:35.322792Z",
     "start_time": "2017-08-09T09:49:35.305148Z"
    },
    "collapsed": true
   },
   "outputs": [],
   "source": [
    "logstd = pd.Series()\n",
    "logstd['a'] = 2.0 / np.sqrt(12)\n",
    "logstd['r'] = 2.0 / np.sqrt(12)\n",
    "logstd['mu'] = 2.0 / np.sqrt(12)\n",
    "logstd['kappa'] = 2.0 / np.sqrt(12)"
   ]
  },
  {
   "cell_type": "markdown",
   "metadata": {},
   "source": [
    "## Sample"
   ]
  },
  {
   "cell_type": "code",
   "execution_count": 4,
   "metadata": {
    "ExecuteTime": {
     "end_time": "2017-08-09T09:49:35.329700Z",
     "start_time": "2017-08-09T09:49:35.324216Z"
    },
    "collapsed": true
   },
   "outputs": [],
   "source": [
    "N = 10000"
   ]
  },
  {
   "cell_type": "code",
   "execution_count": 5,
   "metadata": {
    "ExecuteTime": {
     "end_time": "2017-08-09T09:49:35.338894Z",
     "start_time": "2017-08-09T09:49:35.330980Z"
    },
    "collapsed": true
   },
   "outputs": [],
   "source": [
    "low = logmean - np.sqrt(12) / 2.0 * logstd\n",
    "high = logmean + np.sqrt(12) / 2.0 * logstd"
   ]
  },
  {
   "cell_type": "code",
   "execution_count": 6,
   "metadata": {
    "ExecuteTime": {
     "end_time": "2017-08-09T09:49:35.359723Z",
     "start_time": "2017-08-09T09:49:35.340290Z"
    }
   },
   "outputs": [],
   "source": [
    "np.random.seed(42)\n",
    "logsamples = pd.DataFrame(np.random.uniform(low, high, (N, len(low))), columns=logmean.index)\n",
    "samples = 10**logsamples"
   ]
  },
  {
   "cell_type": "code",
   "execution_count": 7,
   "metadata": {
    "ExecuteTime": {
     "end_time": "2017-08-09T09:49:35.624071Z",
     "start_time": "2017-08-09T09:49:35.361239Z"
    }
   },
   "outputs": [
    {
     "data": {
      "image/png": "[encoded data removed]",
      "text/plain": [
       "<matplotlib.figure.Figure at 0x7f41f1ce9d68>"
      ]
     },
     "metadata": {},
     "output_type": "display_data"
    }
   ],
   "source": [
    "sns.distplot(logsamples['a'])\n",
    "plt.show()"
   ]
  },
  {
   "cell_type": "code",
   "execution_count": 8,
   "metadata": {
    "ExecuteTime": {
     "end_time": "2017-08-09T09:49:35.882806Z",
     "start_time": "2017-08-09T09:49:35.625351Z"
    }
   },
   "outputs": [
    {
     "data": {
      "image/png": "[encoded data removed]",
      "text/plain": [
       "<matplotlib.figure.Figure at 0x7f41f073b860>"
      ]
     },
     "metadata": {},
     "output_type": "display_data"
    }
   ],
   "source": [
    "sns.distplot(samples['a'])\n",
    "plt.show()"
   ]
  },
  {
   "cell_type": "code",
   "execution_count": 9,
   "metadata": {
    "ExecuteTime": {
     "end_time": "2017-08-09T09:49:35.889480Z",
     "start_time": "2017-08-09T09:49:35.884305Z"
    }
   },
   "outputs": [
    {
     "data": {
      "text/plain": [
       "a        21.233742\n",
       "r        21.322899\n",
       "mu       21.347665\n",
       "kappa    21.731657\n",
       "dtype: float64"
      ]
     },
     "execution_count": 9,
     "metadata": {},
     "output_type": "execute_result"
    }
   ],
   "source": [
    "samples.mean()"
   ]
  },
  {
   "cell_type": "markdown",
   "metadata": {},
   "source": [
    "## calculate velocity"
   ]
  },
  {
   "cell_type": "code",
   "execution_count": 10,
   "metadata": {
    "ExecuteTime": {
     "end_time": "2017-08-09T09:49:35.894961Z",
     "start_time": "2017-08-09T09:49:35.892059Z"
    },
    "collapsed": true
   },
   "outputs": [],
   "source": [
    "def M(a, r, mu, kappa):\n",
    "    return 16 * kappa * mu / (a**3 * r**3)"
   ]
  },
  {
   "cell_type": "code",
   "execution_count": 11,
   "metadata": {
    "ExecuteTime": {
     "end_time": "2017-08-09T09:49:35.905418Z",
     "start_time": "2017-08-09T09:49:35.896409Z"
    }
   },
   "outputs": [],
   "source": [
    "def v(samples, c=1, x=1, L=1):\n",
    "    a, r, mu, kappa = samples['a'], samples['r'], samples['mu'], samples['kappa']\n",
    "    f1 = c * a**2 * r**2  / mu\n",
    "    f2 = np.sqrt(M(a, r, mu, kappa))\n",
    "    f3 = np.sinh(np.sqrt(M(a, r, mu, kappa) * x)) / np.cosh(np.sqrt(M(a, r, mu, kappa) * L))\n",
    "    return f1 * f2 * f3"
   ]
  },
  {
   "cell_type": "code",
   "execution_count": 12,
   "metadata": {
    "ExecuteTime": {
     "end_time": "2017-08-09T09:49:36.185424Z",
     "start_time": "2017-08-09T09:49:35.906660Z"
    }
   },
   "outputs": [
    {
     "data": {
      "image/png": "[encoded data removed]",
      "text/plain": [
       "<matplotlib.figure.Figure at 0x7f41f0641ac8>"
      ]
     },
     "metadata": {},
     "output_type": "display_data"
    }
   ],
   "source": [
    "sns.distplot(v(samples))\n",
    "plt.show()"
   ]
  },
  {
   "cell_type": "markdown",
   "metadata": {},
   "source": [
    "Velocity for mean parameters:"
   ]
  },
  {
   "cell_type": "code",
   "execution_count": 13,
   "metadata": {
    "ExecuteTime": {
     "end_time": "2017-08-09T09:49:36.191318Z",
     "start_time": "2017-08-09T09:49:36.186873Z"
    }
   },
   "outputs": [
    {
     "data": {
      "text/plain": [
       "0.76794209331804852"
      ]
     },
     "execution_count": 13,
     "metadata": {},
     "output_type": "execute_result"
    }
   ],
   "source": [
    "v(samples.mean())"
   ]
  },
  {
   "cell_type": "markdown",
   "metadata": {},
   "source": [
    "Mean velocity and standard deviaton"
   ]
  },
  {
   "cell_type": "code",
   "execution_count": 14,
   "metadata": {
    "ExecuteTime": {
     "end_time": "2017-08-09T09:49:36.208091Z",
     "start_time": "2017-08-09T09:49:36.192978Z"
    }
   },
   "outputs": [
    {
     "data": {
      "text/plain": [
       "5.6055988763912881"
      ]
     },
     "execution_count": 14,
     "metadata": {},
     "output_type": "execute_result"
    }
   ],
   "source": [
    "v(samples).mean()"
   ]
  },
  {
   "cell_type": "code",
   "execution_count": 15,
   "metadata": {
    "ExecuteTime": {
     "end_time": "2017-08-09T09:49:36.222097Z",
     "start_time": "2017-08-09T09:49:36.209608Z"
    }
   },
   "outputs": [
    {
     "data": {
      "text/plain": [
       "9.8726819398899259"
      ]
     },
     "execution_count": 15,
     "metadata": {},
     "output_type": "execute_result"
    }
   ],
   "source": [
    "v(samples).std()"
   ]
  }
 ],
 "metadata": {
  "kernelspec": {
   "display_name": "Python [conda env:py3]",
   "language": "python",
   "name": "conda-env-py3-py"
  },
  "language_info": {
   "codemirror_mode": {
    "name": "ipython",
    "version": 3
   },
   "file_extension": ".py",
   "mimetype": "text/x-python",
   "name": "python",
   "nbconvert_exporter": "python",
   "pygments_lexer": "ipython3",
   "version": "3.5.2"
  },
  "toc": {
   "nav_menu": {
    "height": "86px",
    "width": "252px"
   },
   "navigate_menu": true,
   "number_sections": true,
   "sideBar": true,
   "threshold": 4,
   "toc_cell": false,
   "toc_section_display": "block",
   "toc_window_display": false
  }
 },
 "nbformat": 4,
 "nbformat_minor": 2
}
